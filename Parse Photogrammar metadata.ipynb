{
 "metadata": {
  "name": "Parse Photogrammar metadata"
 },
 "nbformat": 3,
 "nbformat_minor": 0,
 "worksheets": [
  {
   "cells": [
    {
     "cell_type": "code",
     "collapsed": false,
     "input": [
      "import os\n",
      "import json\n",
      "\n",
      "os.chdir(\"/var/www/coverspaceOWI\")\n",
      "\n",
      "files = json.loads(open(\"owi.json\").read())\n",
      "\n",
      "outputFile = open(\"metadata.json\",\"w\")\n",
      "outputs = []\n",
      "\n",
      "for file in files:\n",
      "    loc = dict()\n",
      "    loc['entropy'] = file['entropy']\n",
      "    loc['url'] = file['locpermalink']\n",
      "    loc['photographer'] = file['photographer']\n",
      "    loc['state'] = file['state']\n",
      "    loc['year'] = file['year']\n",
      "    outputs.append(loc)\n",
      "    \n",
      "outputFile.write(json.dumps(outputs))"
     ],
     "language": "python",
     "metadata": {},
     "outputs": [],
     "prompt_number": 4
    },
    {
     "cell_type": "code",
     "collapsed": false,
     "input": [],
     "language": "python",
     "metadata": {},
     "outputs": []
    }
   ],
   "metadata": {}
  }
 ]
}